{
 "cells": [
  {
   "cell_type": "code",
   "execution_count": 1,
   "id": "c2959687",
   "metadata": {},
   "outputs": [
    {
     "name": "stdout",
     "output_type": "stream",
     "text": [
      "Today's date: 2021-10-24\n"
     ]
    }
   ],
   "source": [
    "from datetime import date\n",
    "\n",
    "today = date.today()\n",
    "print(\"Today's date:\", today)"
   ]
  },
  {
   "cell_type": "code",
   "execution_count": 2,
   "id": "a63b9e7e",
   "metadata": {},
   "outputs": [
    {
     "name": "stdout",
     "output_type": "stream",
     "text": [
      "Twinkle, twinkle, little star,\n",
      "\tHow I wonder what you are!\n",
      "\t\tUp above the world so high,\n",
      "\t\tLike a diamond in the sky.\n",
      "Twinkle, twinkle, little star,\n",
      "\tHow I wonder what you are\n"
     ]
    }
   ],
   "source": [
    "print(\"Twinkle, twinkle, little star,\");\n",
    "print(\"\\tHow I wonder what you are!\");\n",
    "print(\"\\t\\tUp above the world so high,\");\n",
    "print(\"\\t\\tLike a diamond in the sky.\");\n",
    "print(\"Twinkle, twinkle, little star,\");\n",
    "print(\"\\tHow I wonder what you are\");"
   ]
  },
  {
   "cell_type": "code",
   "execution_count": 3,
   "id": "b8caf362",
   "metadata": {},
   "outputs": [
    {
     "name": "stdout",
     "output_type": "stream",
     "text": [
      "Python version\n",
      "3.8.8 (default, Apr 13 2021, 15:08:03) [MSC v.1916 64 bit (AMD64)]\n",
      "Version info.\n",
      "sys.version_info(major=3, minor=8, micro=8, releaselevel='final', serial=0)\n"
     ]
    }
   ],
   "source": [
    "import sys\n",
    "print(\"Python version\")\n",
    "print (sys.version)\n",
    "print(\"Version info.\")\n",
    "print (sys.version_info)"
   ]
  },
  {
   "cell_type": "code",
   "execution_count": 4,
   "id": "0e73c752",
   "metadata": {},
   "outputs": [
    {
     "name": "stdout",
     "output_type": "stream",
     "text": [
      "Enter the radius= 2\n",
      "Area of circle= 25.12\n"
     ]
    }
   ],
   "source": [
    "r=int(input(\"Enter the radius= \"));\n",
    "pi=3.14;\n",
    "area= 2*pi*r*r;\n",
    "print(\"Area of circle=\",area);\n"
   ]
  },
  {
   "cell_type": "code",
   "execution_count": 5,
   "id": "6e02d3c8",
   "metadata": {},
   "outputs": [
    {
     "name": "stdout",
     "output_type": "stream",
     "text": [
      "Enter First Name: sajid\n",
      "Enter last Name: hussain\n",
      "hussain sajid\n"
     ]
    }
   ],
   "source": [
    "firstName=input(\"Enter First Name: \");\n",
    "lastName=input(\"Enter last Name: \");\n",
    "reverse= lastName+ \" \" +firstName;                    \n",
    "print(reverse);"
   ]
  },
  {
   "cell_type": "code",
   "execution_count": 6,
   "id": "14d2384c",
   "metadata": {},
   "outputs": [
    {
     "name": "stdout",
     "output_type": "stream",
     "text": [
      "enter num= 2\n",
      "even\n"
     ]
    }
   ],
   "source": [
    "num=int(input(\"enter num= \"));\n",
    "if(num%2)==0:\n",
    "    print(\"even\");\n",
    "else:\n",
    "    print(\"odd\");"
   ]
  },
  {
   "cell_type": "code",
   "execution_count": 7,
   "id": "4fcc516a",
   "metadata": {},
   "outputs": [
    {
     "name": "stdout",
     "output_type": "stream",
     "text": [
      "enter Urdu=56\n",
      "enter English=87\n",
      "enter Mathematics=54\n",
      "enter Science=39\n",
      "enter islamiyat=84\n",
      "Student Grade B\n"
     ]
    }
   ],
   "source": [
    "u=int(input(\"enter Urdu=\"));\n",
    "e=int(input(\"enter English=\"));\n",
    "m=int(input(\"enter Mathematics=\"));\n",
    "s=int(input(\"enter Science=\"));\n",
    "i=int(input(\"enter islamiyat=\"));\n",
    "om = u+e+m+s+i;\n",
    "tm = 500;\n",
    "percentage = (om/tm)*100;\n",
    "if percentage < 100 and percentage >= 80:\n",
    "    print(\"Student Grade A+\");\n",
    "elif percentage < 80 and percentage >= 70:\n",
    "    print(\"Student Grade A\");\n",
    "elif percentage < 70 and percentage >= 60:\n",
    "    print(\"Student Grade B\");\n",
    "elif percentage < 60 and percentage >= 50:\n",
    "    print(\"Student Grade C\");\n",
    "elif percentage < 50 and percentage >= 40:\n",
    "    print(\"Student Grade D\");\n",
    "elif percentage < 40 and percentage >= 33:\n",
    "    print(\"Student Grade E\");\n",
    "elif percentage < 33 and percentage >= 0:\n",
    "    print(\"Student Grade F\");\n",
    "else: \n",
    "    print(\"invaild marks\");\n",
    "    "
   ]
  },
  {
   "cell_type": "code",
   "execution_count": 12,
   "id": "ac19a73c",
   "metadata": {},
   "outputs": [
    {
     "name": "stdout",
     "output_type": "stream",
     "text": [
      "8\n"
     ]
    }
   ],
   "source": [
    "a=[1,6,3,8,2,5];\n",
    "s=max(a);\n",
    "print(s);\n"
   ]
  },
  {
   "cell_type": "code",
   "execution_count": 11,
   "id": "0ebe08b4",
   "metadata": {},
   "outputs": [
    {
     "name": "stdout",
     "output_type": "stream",
     "text": [
      "38\n"
     ]
    }
   ],
   "source": [
    "a=[1,6,3,2,9,4,8,5];\n",
    "s=sum(a);\n",
    "print(s);"
   ]
  },
  {
   "cell_type": "code",
   "execution_count": 15,
   "id": "fd0c06e5",
   "metadata": {},
   "outputs": [
    {
     "name": "stdout",
     "output_type": "stream",
     "text": [
      "5\n"
     ]
    }
   ],
   "source": [
    "a=[6,9,7,2,5];\n",
    "print(len(a));"
   ]
  },
  {
   "cell_type": "code",
   "execution_count": 16,
   "id": "0a46a563",
   "metadata": {},
   "outputs": [
    {
     "name": "stdout",
     "output_type": "stream",
     "text": [
      "1\n",
      "1\n",
      "2\n",
      "3\n"
     ]
    }
   ],
   "source": [
    "a = [1, 1, 2, 3, 5, 8, 13, 21, 34, 55, 89]\n",
    "\n",
    "for i in a:\n",
    "\n",
    "    if i < 5:\n",
    "\n",
    "        print(i)"
   ]
  },
  {
   "cell_type": "code",
   "execution_count": 17,
   "id": "beacf656",
   "metadata": {},
   "outputs": [
    {
     "name": "stdout",
     "output_type": "stream",
     "text": [
      "enter first number: 687\n",
      "enter second number: 8970979\n",
      "sum: 8971666\n"
     ]
    }
   ],
   "source": [
    "a = int(input(\"enter first number: \"))\n",
    "b = int(input(\"enter second number: \"))\n",
    " \n",
    "sum = a + b\n",
    " \n",
    "print(\"sum:\", sum)"
   ]
  },
  {
   "cell_type": "code",
   "execution_count": null,
   "id": "a589673d",
   "metadata": {},
   "outputs": [],
   "source": []
  }
 ],
 "metadata": {
  "kernelspec": {
   "display_name": "Python 3",
   "language": "python",
   "name": "python3"
  },
  "language_info": {
   "codemirror_mode": {
    "name": "ipython",
    "version": 3
   },
   "file_extension": ".py",
   "mimetype": "text/x-python",
   "name": "python",
   "nbconvert_exporter": "python",
   "pygments_lexer": "ipython3",
   "version": "3.8.8"
  }
 },
 "nbformat": 4,
 "nbformat_minor": 5
}
